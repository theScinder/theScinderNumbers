{
 "cells": [
  {
   "cell_type": "code",
   "execution_count": 117,
   "metadata": {
    "collapsed": false
   },
   "outputs": [
    {
     "name": "stdout",
     "output_type": "stream",
     "text": [
      "Approximate ratio of aLIGO vacuum to vacuum experienced by ISS in LEO = 0.10255 \n",
      " \n",
      "Detection rate for science run O1 = 7.42648e-06 \n",
      "  per gigaparsec per year \n",
      "\n",
      "Predicted run time per detection at 80 Mparsec sensitivity (2015-2016 level)=  22.9167 days \n",
      "Predicted run time per detection at 8 Mparsec sensitivity (2005-2010 level) =  22916.6667 days  = 62.7854 years \n",
      "\n",
      "Probability of a detection in 4 years at pre-aLIGO sensitivity: 6.1722 % \n",
      "\n",
      "Every year putting off upgrading to advanced LIGO costs approximately 15.9113 potential detections\n",
      "\n"
     ]
    }
   ],
   "source": [
    "# This notebook compares advanced LIGO (aLIGO) to its immediate predecessor and former self: LIGO\n",
    "# The comparison is similar to that of Kerrigan to her form before the Chrysallis\n",
    "\n",
    "import numpy as np\n",
    "\n",
    "# vacuum for aLIGO from https://www.ligo.caltech.edu/page/vacuum\n",
    "UHV = 1e-9 # torr\n",
    "\n",
    "# approx. atmospheric pressure for ISS in LEO from http://www.wolframalpha.com/input/?i=atmosphere+at+408+km\n",
    "ISSV = 1.3e-8 # mbar\n",
    "\n",
    "# Conversion from mbar to torr (using wolframalpha as lookup)\n",
    "mtConv = 0.7501 # torr per mbar\n",
    "\n",
    "#compute ratio of aLIGO UH vacuum vs low-earth orbit vacuum\n",
    "ratioVV = UHV/(ISSV*mtConv)\n",
    "print(\"Approximate ratio of aLIGO vacuum to vacuum experienced by ISS in LEO = %.5f \\n \" % ratioVV)\n",
    "\n",
    "# Effective search volume for Current sensitivity (in MParsecs^3)\n",
    "o1DetectionRange = 80 # Megaparsecs\n",
    "srchVolO1 = (4/3)*np.pi*o1DetectionRange**3 \n",
    "# Effective search volume for pre-aLIGO sensitivity\n",
    "oldDetectionRange = 8 # Megaparsecs\n",
    "srchVol2005 = (4/3)*np.pi*oldDetectionRange**3 \n",
    "\n",
    "\n",
    "# observed rate of detection in applicable volume\n",
    "# duration of science run O1 from https://www.ligo.caltech.edu/news/ligo20160112\n",
    "intO1 = 1100 / 24 / 365\n",
    "\n",
    "# Detection rate is two confirmed events \n",
    "# GW150914 (about 1.3 bly away)\n",
    "# GW151226 (about 1.4 bly away)\n",
    "detRateO1 = 2 / (intO1*srchVolO1)\n",
    "detRateOld = detRateO1 * srchVol2005\n",
    "print('Detection rate for science run O1 = %.5e \\n' % detRateO1, ' per gigaparsec per year \\n')\n",
    "print(\"Predicted run time per detection at 80 Mparsec sensitivity (2015-2016 level)= \", \"%.4f days \" % (1/(srchVolO1*detRateO1/365)) )\n",
    "print(\"Predicted run time per detection at 8 Mparsec sensitivity (2005-2010 level) = \", \"%.4f days \" % (1/(srchVol2005*detRateO1/365)),\n",
    "      \"= %.4f years \\n\" %(1/(srchVol2005*detRateO1)))\n",
    "\n",
    "# calculation for probability of a detection at pre-aLIGO sensitivity in 4 years\n",
    "# expected mean number of events in 4 years given O1 observations\n",
    "myYears = 4\n",
    "myLambda = myYears * srchVol2005*detRateO1 \n",
    "\n",
    "P=0.\n",
    "for k in range (1,99):\n",
    "    P = P + np.exp(-myLambda)*(myLambda**k)/(np.math.factorial(k))\n",
    "print(\"Probability of a detection in 4 years at pre-aLIGO sensitivity: %.4f %% \\n\" % (100*P))\n",
    "\n",
    "diffDetRate = srchVolO1*detRateO1 - detRateOld\n",
    "diffDetections = diffDetRate \n",
    "print(\"Every year putting off upgrading to advanced LIGO costs approximately %.4f potential detections\\n\" % (diffDetections))"
   ]
  },
  {
   "cell_type": "markdown",
   "metadata": {},
   "source": [
    "http://physicstoday.scitation.org/do/10.1063/PT.5.9074/full/\n",
    "https://phys.org/news/2017-06-gravitational-insight-black-holes.html"
   ]
  }
 ],
 "metadata": {
  "anaconda-cloud": {},
  "kernelspec": {
   "display_name": "Python [default]",
   "language": "python",
   "name": "python3"
  },
  "language_info": {
   "codemirror_mode": {
    "name": "ipython",
    "version": 3
   },
   "file_extension": ".py",
   "mimetype": "text/x-python",
   "name": "python",
   "nbconvert_exporter": "python",
   "pygments_lexer": "ipython3",
   "version": "3.5.2"
  }
 },
 "nbformat": 4,
 "nbformat_minor": 1
}
